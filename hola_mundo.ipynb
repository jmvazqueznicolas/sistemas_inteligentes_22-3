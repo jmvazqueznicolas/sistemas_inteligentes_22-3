{
  "cells": [
    {
      "cell_type": "markdown",
      "metadata": {
        "colab_type": "text",
        "id": "view-in-github"
      },
      "source": [
        "<a href=\"https://colab.research.google.com/github/jmvazqueznicolas/sistemas_inteligentes_22-3/blob/master/hola_mundo.ipynb\" target=\"_parent\"><img src=\"https://colab.research.google.com/assets/colab-badge.svg\" alt=\"Open In Colab\"/></a>"
      ]
    },
    {
      "cell_type": "code",
      "execution_count": 1,
      "metadata": {
        "colab": {
          "base_uri": "https://localhost:8080/"
        },
        "id": "D_5X1ia8Vvjd",
        "outputId": "969a50c5-b5c0-4006-bfbc-6ab53076e6d7"
      },
      "outputs": [
        {
          "name": "stdout",
          "output_type": "stream",
          "text": [
            "Hola me llamo Jesús Vázquez\n"
          ]
        }
      ],
      "source": [
        "print(\"Hola me llamo Jesús Vázquez\")"
      ]
    }
  ],
  "metadata": {
    "colab": {
      "include_colab_link": true,
      "name": "hola_mundo.ipynb",
      "provenance": []
    },
    "interpreter": {
      "hash": "d2f822f98f3a22e1ce9c3497e022aeb9c4885fb5e0757da73c39eb5c890c4981"
    },
    "kernelspec": {
      "display_name": "Python 3.6.10 64-bit ('actumlogos-cpu': conda)",
      "name": "python3"
    },
    "language_info": {
      "codemirror_mode": {
        "name": "ipython",
        "version": 3
      },
      "file_extension": ".py",
      "mimetype": "text/x-python",
      "name": "python",
      "nbconvert_exporter": "python",
      "pygments_lexer": "ipython3",
      "version": "3.7.0"
    },
    "orig_nbformat": 4
  },
  "nbformat": 4,
  "nbformat_minor": 2
}
